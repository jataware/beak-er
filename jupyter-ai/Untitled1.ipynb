{
 "cells": [
  {
   "cell_type": "code",
   "execution_count": 1,
   "id": "19387cfa-353c-4bdc-b346-7e609c46cd68",
   "metadata": {},
   "outputs": [
    {
     "name": "stderr",
     "output_type": "stream",
     "text": [
      "UsageError: Cell magic `%%ai` not found.\n"
     ]
    }
   ],
   "source": [
    "%%ai anthropic:claude-v1.2\n",
    "Write a poem about C++.\n"
   ]
  },
  {
   "cell_type": "code",
   "execution_count": null,
   "id": "d13eb275-01c2-4530-ac1b-f4c750232db2",
   "metadata": {},
   "outputs": [],
   "source": []
  }
 ],
 "metadata": {
  "kernelspec": {
   "display_name": "Python 3 (ipykernel)",
   "language": "python",
   "name": "python3"
  },
  "language_info": {
   "codemirror_mode": {
    "name": "ipython",
    "version": 3
   },
   "file_extension": ".py",
   "mimetype": "text/x-python",
   "name": "python",
   "nbconvert_exporter": "python",
   "pygments_lexer": "ipython3",
   "version": "3.10.13"
  }
 },
 "nbformat": 4,
 "nbformat_minor": 5
}
